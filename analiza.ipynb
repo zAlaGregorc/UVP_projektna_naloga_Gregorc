{
 "cells": [
  {
   "attachments": {},
   "cell_type": "markdown",
   "metadata": {},
   "source": [
    "## ANALIZA PODATKOV - KNJIGE\n"
   ]
  },
  {
   "attachments": {},
   "cell_type": "markdown",
   "metadata": {},
   "source": [
    "Najprej je potrebno naložiti podatke z interneta. Ker smo podatke že naložili in obdelali lokalno, tega ne potrebujemo posebej zaganjati."
   ]
  },
  {
   "cell_type": "code",
   "execution_count": null,
   "metadata": {},
   "outputs": [],
   "source": [
    "import prevedi_in_shrani_podatke\n",
    "\n",
    "# prevede in shrani podatke z interneta\n",
    "prevedi_in_shrani_podatke.save_web_data()"
   ]
  },
  {
   "cell_type": "code",
   "execution_count": null,
   "metadata": {},
   "outputs": [],
   "source": [
    "import obdelaj_podatke\n",
    "\n",
    "# obdela shranjene podatke in jih zapise v csv datoteko\n",
    "obdelaj_podatke.pripravi_podatke_za_csv()"
   ]
  },
  {
   "attachments": {},
   "cell_type": "markdown",
   "metadata": {},
   "source": [
    "# TABELA S PODATKI\n",
    "\n",
    "Za prikaz vhodnih podatkov uporabimo knjižnico pandas."
   ]
  },
  {
   "cell_type": "code",
   "execution_count": null,
   "metadata": {},
   "outputs": [],
   "source": [
    "import pandas as pd\n",
    "\n",
    "# prikazemo samo 10 vrstic\n",
    "pd.set_option('display.min_rows', 10)\n",
    "\n",
    "%matplotlib inline\n",
    "\n",
    "# uvozimo sluzbe iz csv datoteke\n",
    "knjige = pd.read_csv('koncni_podatki/podatki_o_knjigi.csv', index_col='ime')"
   ]
  }
 ],
 "metadata": {
  "language_info": {
   "name": "python"
  },
  "orig_nbformat": 4
 },
 "nbformat": 4,
 "nbformat_minor": 2
}
